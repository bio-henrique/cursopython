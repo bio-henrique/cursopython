{
 "cells": [
  {
   "cell_type": "code",
   "execution_count": 2,
   "metadata": {},
   "outputs": [
    {
     "name": "stdout",
     "output_type": "stream",
     "text": [
      "Fala devs, tudo bem?\n"
     ]
    }
   ],
   "source": [
    "print (\"Fala devs, tudo bem?\")"
   ]
  },
  {
   "cell_type": "markdown",
   "metadata": {},
   "source": [
    "# Conversão de parsecs em anos-luz\n",
    "Exercício de while"
   ]
  },
  {
   "cell_type": "code",
   "execution_count": 4,
   "metadata": {},
   "outputs": [
    {
     "name": "stdout",
     "output_type": "stream",
     "text": [
      "Hello, world\n",
      "Hoje é dia: 2023-10-01\n",
      "11 parsecs correspondem a 35.87720158 anos-luz.\n",
      "Agora digite um valor em parsec para converter em anos-luz: 7\n",
      "O valor em anos-luz é: 22.83094646\n",
      "Gostaria de converter outro valor? não\n",
      "Fim do programa.\n"
     ]
    }
   ],
   "source": [
    "print ('Hello, world')\n",
    "from datetime import date #importa o módulo <date>\n",
    "print ('Hoje é dia: ' + str(date.today())) #Data é formato <date> e precisa ser convertido em formato <string> para funcionar com o <print>\n",
    "parsecs = 11\n",
    "lightyears = parsecs * 3.26156378 #converte parsecs em anos-luz\n",
    "print ('11 parsecs correspondem a ' + str(lightyears), 'anos-luz.' )\n",
    "valor = input('Agora digite um valor em parsec para converter em anos-luz: ') #variável <valor> recebe o valor digitado (input) pelo usuário\n",
    "anoluz = float(valor) * 3.26156378 # <valor> é uma <string> e precisa ser convertida em <float> antes do cálculo de conversão em anos-luz\n",
    "print(\"O valor em anos-luz é: \" + str(anoluz)) #variável anoluz é formato <float> e precisa ser convertida em formato <string> para funcionar com o <print>\n",
    "resposta = input(\"Gostaria de converter outro valor? \") #variável <resposta> recebe o valor do input do usuário\n",
    "while resposta != \"não\":  #início do <while>\n",
    "    valor = input('Digite um valor em parsec para converter em anos-luz: ') #bloco de comando dentro do <while> deve conter indentação\n",
    "    anoluz = float(valor) * 3.26156378\n",
    "    print(\"O valor em anos-luz é: \" + str(anoluz))\n",
    "    resposta = input(\"Gostaria de converter outro valor? \") #variável <resposta> recebe um novo valor do input do usuário\n",
    "print(\"Fim do programa.\") #fim do <while>"
   ]
  },
  {
   "cell_type": "code",
   "execution_count": 13,
   "metadata": {},
   "outputs": [],
   "source": [
    "import random"
   ]
  },
  {
   "cell_type": "code",
   "execution_count": 17,
   "metadata": {},
   "outputs": [],
   "source": [
    "num = 3"
   ]
  },
  {
   "cell_type": "code",
   "execution_count": 19,
   "metadata": {},
   "outputs": [],
   "source": [
    "num = num + 2"
   ]
  },
  {
   "cell_type": "code",
   "execution_count": 21,
   "metadata": {},
   "outputs": [],
   "source": [
    "num = num * 2"
   ]
  },
  {
   "cell_type": "code",
   "execution_count": 23,
   "metadata": {},
   "outputs": [
    {
     "name": "stdout",
     "output_type": "stream",
     "text": [
      "10\n"
     ]
    }
   ],
   "source": [
    "print (num)"
   ]
  },
  {
   "cell_type": "markdown",
   "metadata": {},
   "source": [
    "# Organizar genes e IDs\n",
    "Exercício de while, if/else, for, lista e tuple"
   ]
  },
  {
   "cell_type": "code",
   "execution_count": 25,
   "metadata": {},
   "outputs": [
    {
     "name": "stdout",
     "output_type": "stream",
     "text": [
      "Insira o nome de um gene. Após inserir todos os genes desejados, digite \"n\": n\n",
      "Agora digite o ID do gene: n\n",
      "Segue a lista contendo os genes e seus respectivos IDs: [('n', 'n')]\n",
      "Segue a lista dos genes ordenada pelo ID: [('n', 'n')]\n",
      "Segue a lista ordenada pelo nome dos genes: [('n', 'n')]\n"
     ]
    }
   ],
   "source": [
    "gene = [] #cria a variável <gene> do tipo <lista>. Diferente do tuple, uma lista é mutável.\n",
    "idnumber = [] #cria a variável <idnumber> do tipo <lista>\n",
    "respostag = input(\"Insira o nome de um gene. Após inserir todos os genes desejados, digite \\\"n\\\": \")#<resposta> recebe o valor do input do usuário\n",
    "respostai = input(\"Agora digite o ID do gene: \")\n",
    "gene.append (respostag) #função <append> insere um valor no final da lista <gene>\n",
    "idnumber.append (respostai)\n",
    "while respostag != \"n\": #início do <while>\n",
    "    respostag = input(\"Insira o nome de um gene. Após inserir todos os genes desejados, digite \\\"n\\\": \")\n",
    "    if respostag != \"n\":\n",
    "        respostai = input(\"Agora digite o ID do gene: \")\n",
    "        gene.append (respostag)\n",
    "        idnumber.append (respostai)   \n",
    "    else:     \n",
    "        #gene.remove(\"n\") #remove o valor \"n\" indepdendente da sua posição. Para remover um item de uma determinar posição, usar o comando <del gene []>\n",
    "        #idnumber.remove(\"n\") \n",
    "        print(\"Os genes inseridos foram: \" + str(gene))\n",
    "        print(\"Os IDs desses genes são: \" + str(idnumber))\n",
    "qtdg = len(gene)\n",
    "resultadog = []\n",
    "resultadoi = []\n",
    "for i in range (+qtdg):\n",
    "    tuplag = (gene[i], idnumber[i])\n",
    "    tuplai = (idnumber[i], gene[i])\n",
    "    resultadog.append(tuplag)\n",
    "    resultadoi.append(tuplai)\n",
    "print(\"Segue a lista contendo os genes e seus respectivos IDs: \" + str(resultadog))\n",
    "resultadog.sort\n",
    "resultadoi.sort()\n",
    "print(\"Segue a lista dos genes ordenada pelo ID: \" + str(resultadoi))\n",
    "print(\"Segue a lista ordenada pelo nome dos genes: \" + str(resultadog))"
   ]
  },
  {
   "cell_type": "markdown",
   "metadata": {},
   "source": [
    "# Teste de import\n",
    "Conta até 100 - for in range (100)\n",
    "1 número a cada 1 segundo - time.sleep(1)\n",
    "Para interromper a execução do código: apertar em Stop na barra de comandos."
   ]
  },
  {
   "cell_type": "code",
   "execution_count": 27,
   "metadata": {},
   "outputs": [
    {
     "name": "stdout",
     "output_type": "stream",
     "text": [
      "0\n",
      "1\n",
      "2\n",
      "3\n",
      "4\n"
     ]
    },
    {
     "ename": "KeyboardInterrupt",
     "evalue": "",
     "output_type": "error",
     "traceback": [
      "\u001b[1;31m---------------------------------------------------------------------------\u001b[0m",
      "\u001b[1;31mKeyboardInterrupt\u001b[0m                         Traceback (most recent call last)",
      "\u001b[1;32m<ipython-input-27-b15262769369>\u001b[0m in \u001b[0;36m<module>\u001b[1;34m\u001b[0m\n\u001b[0;32m      2\u001b[0m \u001b[1;32mfor\u001b[0m \u001b[0mi\u001b[0m \u001b[1;32min\u001b[0m \u001b[0mrange\u001b[0m \u001b[1;33m(\u001b[0m\u001b[1;36m100\u001b[0m\u001b[1;33m)\u001b[0m\u001b[1;33m:\u001b[0m\u001b[1;33m\u001b[0m\u001b[1;33m\u001b[0m\u001b[0m\n\u001b[0;32m      3\u001b[0m     \u001b[0mprint\u001b[0m\u001b[1;33m(\u001b[0m\u001b[0mi\u001b[0m\u001b[1;33m)\u001b[0m\u001b[1;33m\u001b[0m\u001b[1;33m\u001b[0m\u001b[0m\n\u001b[1;32m----> 4\u001b[1;33m     \u001b[0mtime\u001b[0m\u001b[1;33m.\u001b[0m\u001b[0msleep\u001b[0m\u001b[1;33m(\u001b[0m\u001b[1;36m1\u001b[0m\u001b[1;33m)\u001b[0m\u001b[1;33m\u001b[0m\u001b[1;33m\u001b[0m\u001b[0m\n\u001b[0m",
      "\u001b[1;31mKeyboardInterrupt\u001b[0m: "
     ]
    }
   ],
   "source": [
    "import time\n",
    "for i in range (100):\n",
    "    print(i)\n",
    "    time.sleep(1)"
   ]
  },
  {
   "cell_type": "code",
   "execution_count": null,
   "metadata": {},
   "outputs": [],
   "source": []
  }
 ],
 "metadata": {
  "kernelspec": {
   "display_name": "Python 3",
   "language": "python",
   "name": "python3"
  },
  "language_info": {
   "codemirror_mode": {
    "name": "ipython",
    "version": 3
   },
   "file_extension": ".py",
   "mimetype": "text/x-python",
   "name": "python",
   "nbconvert_exporter": "python",
   "pygments_lexer": "ipython3",
   "version": "3.8.3"
  }
 },
 "nbformat": 4,
 "nbformat_minor": 4
}
